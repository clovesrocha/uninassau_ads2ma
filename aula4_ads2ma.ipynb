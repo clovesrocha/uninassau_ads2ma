{
  "nbformat": 4,
  "nbformat_minor": 0,
  "metadata": {
    "colab": {
      "provenance": [],
      "authorship_tag": "ABX9TyN5r8am8W1JXEta3dSqbXqx",
      "include_colab_link": true
    },
    "kernelspec": {
      "name": "python3",
      "display_name": "Python 3"
    },
    "language_info": {
      "name": "python"
    }
  },
  "cells": [
    {
      "cell_type": "markdown",
      "metadata": {
        "id": "view-in-github",
        "colab_type": "text"
      },
      "source": [
        "<a href=\"https://colab.research.google.com/github/clovesrocha/uninassau_ads2ma/blob/main/aula4_ads2ma.ipynb\" target=\"_parent\"><img src=\"https://colab.research.google.com/assets/colab-badge.svg\" alt=\"Open In Colab\"/></a>"
      ]
    },
    {
      "cell_type": "code",
      "execution_count": 40,
      "metadata": {
        "colab": {
          "base_uri": "https://localhost:8080/"
        },
        "id": "3tmNvE5ovtrP",
        "outputId": "fd63a1c7-7b5c-41d2-ff0e-c8ba5ee9dc62"
      },
      "outputs": [
        {
          "output_type": "stream",
          "name": "stdout",
          "text": [
            "8 resultado da exponenciação.\n",
            "0 resultado da divisão inteira.\n",
            "1 resultado da divisão inteira.\n"
          ]
        },
        {
          "output_type": "execute_result",
          "data": {
            "text/plain": [
              "True"
            ]
          },
          "metadata": {},
          "execution_count": 40
        }
      ],
      "source": [
        "# INSTITUIÇÃO: UNINASSAU\n",
        "# DOCENTE: CLOVES ROCHA\n",
        "# ESTUDANTE: FULANO DE TAL\n",
        "# Tipos Primitivos de Dados - Guia Aprender Python\n",
        "\n",
        "#print('Cloves nota 10')\n",
        "#c = 10\n",
        "#print(c,'é um dado do tipo: ')\n",
        "#print(type(c))\n",
        "\n",
        "# 3. Operadores Aritméticos - Guia Aprender Python\n",
        "# 10 + 9 adição\n",
        "# 9 - 8 subtração\n",
        "# 9 * 7 multiplicação\n",
        "# 10 / 3 divisão\n",
        "# 5 ** 3 exponenciação\n",
        "# 10 // 3  divisão inteira\n",
        "# 10 % 3 resto da divisão\n",
        "c = 2**3\n",
        "print(c, 'resultado da exponenciação.')\n",
        "c = 2//3\n",
        "print(c, 'resultado da divisão inteira.')\n",
        "c = 10%3\n",
        "print(c, 'resultado da divisão inteira.')\n",
        "\n",
        "# 4. Operadores Relacionais Simples.\n",
        "# 11 > 10\n",
        "# 9 < 8\n",
        "a = 1\n",
        "b = 1\n",
        "a == b"
      ]
    }
  ]
}