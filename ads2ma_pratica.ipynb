{
  "nbformat": 4,
  "nbformat_minor": 0,
  "metadata": {
    "colab": {
      "provenance": [],
      "authorship_tag": "ABX9TyM+R/TKGXJ2J/5oa+84AWDx",
      "include_colab_link": true
    },
    "kernelspec": {
      "name": "python3",
      "display_name": "Python 3"
    },
    "language_info": {
      "name": "python"
    }
  },
  "cells": [
    {
      "cell_type": "markdown",
      "metadata": {
        "id": "view-in-github",
        "colab_type": "text"
      },
      "source": [
        "<a href=\"https://colab.research.google.com/github/clovesrocha/uninassau_ads2ma/blob/main/ads2ma_pratica.ipynb\" target=\"_parent\"><img src=\"https://colab.research.google.com/assets/colab-badge.svg\" alt=\"Open In Colab\"/></a>"
      ]
    },
    {
      "cell_type": "code",
      "execution_count": null,
      "metadata": {
        "id": "FrlthQVctt_s"
      },
      "outputs": [],
      "source": [
        "# UNINASSAU\n",
        "# DOCENTE: Prof. MSc. Cloves\n",
        "# Tópicos: Python básico ao intermediário.\n",
        "\n",
        "# 3. Operadores Aritméticos - Guia Aprender Python\n",
        "# 10 + 9 adição\n",
        "# 9 - 8 subtração\n",
        "# 9 * 7 multiplicação\n",
        "# 10 / 3 divisão\n",
        "# 5 ** 3 exponenciação\n",
        "# 10 // 3  divisão inteira\n",
        "# 10 % 3 resto da divisão\n",
        "c = 2**3\n",
        "print(c, 'resultado da exponenciação.')\n",
        "c = 2//3\n",
        "print(c, 'resultado da divisão inteira.')\n",
        "c = 10%3\n",
        "print(c, 'resultado da divisão inteira.')\n",
        "\n",
        "# 4. Operadores Relacionais Simples.\n",
        "# 11 > 10\n",
        "# 9 < 8\n",
        "a = 1\n",
        "b = 1\n",
        "a == b"
      ]
    },
    {
      "cell_type": "code",
      "source": [
        "# 5. Operadores Relacionais Compostos.\n",
        "\n",
        "#nota1 = 7\n",
        "#nota2 = 6\n",
        "#print(nota1 >= nota2)\n",
        "\n",
        "#nota1 = 7\n",
        "#nota2 = 6\n",
        "#print(nota1 <= nota2)\n",
        "\n",
        "nota1 = 7\n",
        "nota2 = 7\n",
        "print(nota1 != nota2)"
      ],
      "metadata": {
        "colab": {
          "base_uri": "https://localhost:8080/"
        },
        "id": "V9z4oTtNvMLt",
        "outputId": "6347bc40-1092-44dc-a95d-d5fc8e326ea8"
      },
      "execution_count": 5,
      "outputs": [
        {
          "output_type": "stream",
          "name": "stdout",
          "text": [
            "False\n"
          ]
        }
      ]
    },
    {
      "cell_type": "code",
      "source": [
        "# 7. Função input().\n",
        "\n",
        "'''print('Olá ADS 2MA!')\n",
        "nome = str(input('Digite o seu nome: '))\n",
        "cpf  = int(input('Digite o seu CPF: '))\n",
        "print(nome)\n",
        "print(cpf)'''\n",
        "\n",
        "idade = int(input('Digite sua idade: '))\n",
        "print(f'Você tem {idade} anos.')\n",
        "print(type(idade))"
      ],
      "metadata": {
        "id": "COyMEalpv3fh"
      },
      "execution_count": null,
      "outputs": []
    },
    {
      "cell_type": "code",
      "source": [
        "# 8. Estruturas Condicionais.\n",
        "numero = int(input('Digite um número: '))\n",
        "if numero % 2 == 0:\n",
        "  print(f'O número {numero} é par.')\n",
        "else:\n",
        "  print(f'O número {numero} é ímpar.')"
      ],
      "metadata": {
        "id": "XsupFwUL1R40"
      },
      "execution_count": null,
      "outputs": []
    },
    {
      "cell_type": "code",
      "source": [
        "# 9. Estruturas Condicionais Aninhadas e o elif.\n",
        "num = float(input('Digite um número: '))\n",
        "\n",
        "if num > 0:\n",
        "  print('Este número é positivo.')\n",
        "\n",
        "elif num == 0:\n",
        "  print('Este número é neutro.')\n",
        "\n",
        "else:\n",
        "  print('Este número é negativo.')"
      ],
      "metadata": {
        "colab": {
          "base_uri": "https://localhost:8080/"
        },
        "id": "btkh1tuo2nQO",
        "outputId": "28ba7de7-f87c-4028-9313-c6174cf53c51"
      },
      "execution_count": 23,
      "outputs": [
        {
          "output_type": "stream",
          "name": "stdout",
          "text": [
            "Digite um número: 12\n",
            "Este número é positivo.\n"
          ]
        }
      ]
    }
  ]
}