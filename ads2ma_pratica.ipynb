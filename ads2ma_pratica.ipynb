{
  "nbformat": 4,
  "nbformat_minor": 0,
  "metadata": {
    "colab": {
      "provenance": [],
      "authorship_tag": "ABX9TyP/R/490GTrmtiIWyM5ERPJ",
      "include_colab_link": true
    },
    "kernelspec": {
      "name": "python3",
      "display_name": "Python 3"
    },
    "language_info": {
      "name": "python"
    }
  },
  "cells": [
    {
      "cell_type": "markdown",
      "metadata": {
        "id": "view-in-github",
        "colab_type": "text"
      },
      "source": [
        "<a href=\"https://colab.research.google.com/github/clovesrocha/uninassau_ads2ma/blob/main/ads2ma_pratica.ipynb\" target=\"_parent\"><img src=\"https://colab.research.google.com/assets/colab-badge.svg\" alt=\"Open In Colab\"/></a>"
      ]
    },
    {
      "cell_type": "code",
      "execution_count": null,
      "metadata": {
        "id": "FrlthQVctt_s"
      },
      "outputs": [],
      "source": [
        "# UNINASSAU\n",
        "# DOCENTE: Prof. MSc. Cloves\n",
        "# Tópicos: Python básico ao intermediário.\n",
        "\n",
        "# 3. Operadores Aritméticos - Guia Aprender Python\n",
        "# 10 + 9 adição\n",
        "# 9 - 8 subtração\n",
        "# 9 * 7 multiplicação\n",
        "# 10 / 3 divisão\n",
        "# 5 ** 3 exponenciação\n",
        "# 10 // 3  divisão inteira\n",
        "# 10 % 3 resto da divisão\n",
        "c = 2**3\n",
        "print(c, 'resultado da exponenciação.')\n",
        "c = 2//3\n",
        "print(c, 'resultado da divisão inteira.')\n",
        "c = 10%3\n",
        "print(c, 'resultado da divisão inteira.')\n",
        "\n",
        "# 4. Operadores Relacionais Simples.\n",
        "# 11 > 10\n",
        "# 9 < 8\n",
        "a = 1\n",
        "b = 1\n",
        "a == b"
      ]
    },
    {
      "cell_type": "code",
      "source": [
        "# 5. Operadores Relacionais Compostos.\n",
        "\n",
        "#nota1 = 7\n",
        "#nota2 = 6\n",
        "#print(nota1 >= nota2)\n",
        "\n",
        "#nota1 = 7\n",
        "#nota2 = 6\n",
        "#print(nota1 <= nota2)\n",
        "\n",
        "nota1 = 7\n",
        "nota2 = 7\n",
        "print(nota1 != nota2)"
      ],
      "metadata": {
        "colab": {
          "base_uri": "https://localhost:8080/"
        },
        "id": "V9z4oTtNvMLt",
        "outputId": "6347bc40-1092-44dc-a95d-d5fc8e326ea8"
      },
      "execution_count": 5,
      "outputs": [
        {
          "output_type": "stream",
          "name": "stdout",
          "text": [
            "False\n"
          ]
        }
      ]
    },
    {
      "cell_type": "code",
      "source": [
        "# 7. Função input().\n",
        "\n",
        "'''print('Olá ADS 2MA!')\n",
        "nome = str(input('Digite o seu nome: '))\n",
        "cpf  = int(input('Digite o seu CPF: '))\n",
        "print(nome)\n",
        "print(cpf)'''\n",
        "\n",
        "idade = int(input('Digite sua idade: '))\n",
        "print(f'Você tem {idade} anos.')\n",
        "print(type(idade))"
      ],
      "metadata": {
        "id": "COyMEalpv3fh"
      },
      "execution_count": null,
      "outputs": []
    },
    {
      "cell_type": "code",
      "source": [
        "# 8. Estruturas Condicionais.\n",
        "numero = int(input('Digite um número: '))\n",
        "if numero % 2 == 0:\n",
        "  print(f'O número {numero} é par.')\n",
        "else:\n",
        "  print(f'O número {numero} é ímpar.')"
      ],
      "metadata": {
        "id": "XsupFwUL1R40"
      },
      "execution_count": null,
      "outputs": []
    },
    {
      "cell_type": "code",
      "source": [
        "# 9. Estruturas Condicionais Aninhadas e o elif.\n",
        "num = float(input('Digite um número: '))\n",
        "\n",
        "if num > 0:\n",
        "  print('Este número é positivo.')\n",
        "\n",
        "elif num == 0:\n",
        "  print('Este número é neutro.')\n",
        "\n",
        "else:\n",
        "  print('Este número é negativo.')"
      ],
      "metadata": {
        "colab": {
          "base_uri": "https://localhost:8080/"
        },
        "id": "btkh1tuo2nQO",
        "outputId": "28ba7de7-f87c-4028-9313-c6174cf53c51"
      },
      "execution_count": 23,
      "outputs": [
        {
          "output_type": "stream",
          "name": "stdout",
          "text": [
            "Digite um número: 12\n",
            "Este número é positivo.\n"
          ]
        }
      ]
    },
    {
      "cell_type": "code",
      "source": [
        "# 10. Operadores Lógicos:\n",
        "# and; or; not; Função range()\n",
        "# e os operadores in; not in.\n",
        "resposta = int(input('Qual é a sua idade: ' ))\n",
        "if resposta >= 18 and resposta <=65:\n",
        "  print('Você é obrigado a votar!')\n",
        "else:\n",
        "  print('Você não é obrigado a votar!')"
      ],
      "metadata": {
        "colab": {
          "base_uri": "https://localhost:8080/"
        },
        "id": "AXSmWixt7W6B",
        "outputId": "01fc914b-a785-4dba-f7d1-a00011eede82"
      },
      "execution_count": 29,
      "outputs": [
        {
          "output_type": "stream",
          "name": "stdout",
          "text": [
            "Qual é a sua idade: 38\n",
            "Você é obrigado a votar!\n"
          ]
        }
      ]
    },
    {
      "cell_type": "code",
      "source": [
        "print('1. Idoso.')\n",
        "print('2. Gestante.')\n",
        "print('3. Cadeirante.')\n",
        "print('4. Comum - PF')\n",
        "resposta = int(input('Você é: '))\n",
        "\n",
        "if (resposta == 1) or (resposta == 2) or (resposta == 3):\n",
        "  print('Você tem direito a fila prioritária.')\n",
        "else:\n",
        "  print('Você NÃO tem direito a nada. Vá pra fila comum.')"
      ],
      "metadata": {
        "colab": {
          "base_uri": "https://localhost:8080/"
        },
        "id": "C89MXqfQ8umw",
        "outputId": "9eef39d2-a09a-4db0-f9b8-3a85f36a8024"
      },
      "execution_count": 32,
      "outputs": [
        {
          "output_type": "stream",
          "name": "stdout",
          "text": [
            "1. Idoso.\n",
            "2. Gestante.\n",
            "3. Cadeirante.\n",
            "4. Comum - PF\n",
            "Você é: 5\n",
            "Você NÃO tem direito a nada. Vá pra fila comum.\n"
          ]
        }
      ]
    },
    {
      "cell_type": "code",
      "source": [
        "# Operador not\n",
        "a = 4\n",
        "b = 2\n",
        "print(not a > b)"
      ],
      "metadata": {
        "colab": {
          "base_uri": "https://localhost:8080/"
        },
        "id": "aCIDZJV-_G3l",
        "outputId": "517dd008-9c49-42f8-8165-77d16fddc78f"
      },
      "execution_count": 33,
      "outputs": [
        {
          "output_type": "stream",
          "name": "stdout",
          "text": [
            "False\n"
          ]
        }
      ]
    },
    {
      "cell_type": "code",
      "source": [
        "banda = str(input('Qual melhor banda do mundo? '))\n",
        "\n",
        "if not banda=='DT':\n",
        "  print('Errado!')\n",
        "else:\n",
        "  print('Correto, é DT.')"
      ],
      "metadata": {
        "colab": {
          "base_uri": "https://localhost:8080/"
        },
        "id": "qwN8BhKI_43C",
        "outputId": "5ed2a444-82a4-499f-e259-85a55aa4bcbf"
      },
      "execution_count": 1,
      "outputs": [
        {
          "output_type": "stream",
          "name": "stdout",
          "text": [
            "Qual melhor banda do mundo? DT\n",
            "Correto, é DT.\n"
          ]
        }
      ]
    },
    {
      "cell_type": "code",
      "source": [
        "r = int(input('Digite um número: '))\n",
        "if r in range(1, 300):\n",
        "  print(f'{r} está entre 1 a 300.')\n",
        "else:\n",
        "  print(f'{r} não está entre 1 e 300.')"
      ],
      "metadata": {
        "colab": {
          "base_uri": "https://localhost:8080/"
        },
        "id": "ejRw-_LVBImN",
        "outputId": "b5462af3-5d35-46e4-83d9-2d89e5965386"
      },
      "execution_count": 5,
      "outputs": [
        {
          "output_type": "stream",
          "name": "stdout",
          "text": [
            "Digite um número: 0\n",
            "0 não está entre 1 e 300.\n"
          ]
        }
      ]
    },
    {
      "cell_type": "code",
      "source": [
        "# 11. Um pouco de Álgebra Linear\n",
        "imc = [1.81, #altura\n",
        "       100, #peso\n",
        "        40] #idade\n",
        "print(imc)\n",
        "# exercício imc: divide-se o peso (em kg) p\n",
        "# elo quadrado da altura (em metros)."
      ],
      "metadata": {
        "colab": {
          "base_uri": "https://localhost:8080/"
        },
        "id": "Jti13abLClcn",
        "outputId": "257df0bf-77e7-45ce-e857-31e098e92039"
      },
      "execution_count": 6,
      "outputs": [
        {
          "output_type": "stream",
          "name": "stdout",
          "text": [
            "[1.81, 100, 40]\n"
          ]
        }
      ]
    },
    {
      "cell_type": "code",
      "source": [
        "notas = [ 10, #nota 1\n",
        "           9, #nota 2\n",
        "           8] #nota 3\n",
        "print(notas)\n",
        "# exercício: fazer a média do vetor de notas.\n"
      ],
      "metadata": {
        "colab": {
          "base_uri": "https://localhost:8080/"
        },
        "id": "LdmS66ChDr09",
        "outputId": "4a606fb6-43d0-4160-c954-3c77a17acacc"
      },
      "execution_count": 7,
      "outputs": [
        {
          "output_type": "stream",
          "name": "stdout",
          "text": [
            "[10, 9, 8]\n"
          ]
        }
      ]
    }
  ]
}